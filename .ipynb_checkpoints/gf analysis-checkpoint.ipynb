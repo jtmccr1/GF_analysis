{
 "metadata": {
  "name": ""
 },
 "nbformat": 3,
 "nbformat_minor": 0,
 "worksheets": [
  {
   "cells": [
    {
     "cell_type": "heading",
     "level": 1,
     "metadata": {},
     "source": [
      "**Anlysis of the colonization data **  "
     ]
    },
    {
     "cell_type": "markdown",
     "metadata": {},
     "source": [
      "\n",
      "\n",
      "It is my thought to keep this notebook as evidence of my analysis of the large quantity of germfree data the lab has produced.  I have had several analyses of parts of this data set, but this the complete set including some reruns of the samples that produced few reads in the past.  The goal here is to identify whether or not deterministic factors are at play in the colonization of the gut by bacterial communities.  Once the data has been properly processed by the mothur pipeline we will aim to identify trends that arise in the colonization of germ free (gf) mice by mouse communities.  We will then observe whether or not these trends hold when human fecal communities are used as innocula, and the ultimate test of the hypothesis will be whether or not various trends are maintained when soil, which contains a diverse, but not gut adapted, community is used as innoculum."
     ]
    },
    {
     "cell_type": "markdown",
     "metadata": {},
     "source": []
    },
    {
     "cell_type": "heading",
     "level": 2,
     "metadata": {},
     "source": [
      "Initial anlysis"
     ]
    },
    {
     "cell_type": "markdown",
     "metadata": {},
     "source": [
      "Before begining the mothur pipline it was helpful to create a .files file containing sample names that were of a unified structure.  This data set contains many different experiments ran by different scientists and they each have their own naming skeme, some more helpful than others.  The needed file for the make.contigs command was created below and named detrm.files because the goal is to show the colonization process is deterministic (aka detrm).  It currently doesn't work since I can't get this notebook to run python3."
     ]
    },
    {
     "cell_type": "code",
     "collapsed": false,
     "input": [
      "%run rename_reg.py fastq.txt detrm.files"
     ],
     "language": "python",
     "metadata": {},
     "outputs": [
      {
       "ename": "SyntaxError",
       "evalue": "invalid syntax (rename_reg.py, line 370)",
       "output_type": "pyerr",
       "traceback": [
        "\u001b[0;36m  File \u001b[0;32m\"/Users/mccrone/Desktop/GF_analysis/rename_reg.py\"\u001b[0;36m, line \u001b[0;32m370\u001b[0m\n\u001b[0;31m    print(samples[i],r1[i],r2[i],sep='\\t',end='\\n',file=outfile)\u001b[0m\n\u001b[0m                                    ^\u001b[0m\n\u001b[0;31mSyntaxError\u001b[0m\u001b[0;31m:\u001b[0m invalid syntax\n"
       ]
      }
     ],
     "prompt_number": 5
    },
    {
     "cell_type": "markdown",
     "metadata": {},
     "source": [
      "Then the following was ran in the make.batch file on axiom using the make.pbs script"
     ]
    },
    {
     "cell_type": "code",
     "collapsed": false,
     "input": [
      "%% mothur\n",
      "\n",
      "make.contigs(file=detrm.files, processors=16)\n",
      "summary.seqs(fasta=detrm.trim.contigs.fasta, processors=16)\n"
     ],
     "language": "python",
     "metadata": {},
     "outputs": []
    },
    {
     "cell_type": "code",
     "collapsed": false,
     "input": [],
     "language": "python",
     "metadata": {},
     "outputs": []
    }
   ],
   "metadata": {}
  }
 ]
}